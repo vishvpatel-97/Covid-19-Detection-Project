{
 "cells": [
  {
   "cell_type": "code",
   "execution_count": 1,
   "metadata": {},
   "outputs": [],
   "source": [
    "import tensorflow \n",
    "from tensorflow.keras.layers import *\n",
    "from tensorflow.keras.preprocessing import image  \n",
    "from tensorflow.keras.models import *\n",
    "import numpy as np\n",
    "import matplotlib.pyplot as plt"
   ]
  },
  {
   "cell_type": "code",
   "execution_count": 2,
   "metadata": {},
   "outputs": [],
   "source": [
    "train_path = r'C:\\Users\\SANJAY\\Desktop\\Covid-19_Project\\Covid19-dataset\\train'\n",
    "test_path = r'C:\\Users\\SANJAY\\Desktop\\Covid-19_Project\\Covid19-dataset\\test'"
   ]
  },
  {
   "cell_type": "code",
   "execution_count": 3,
   "metadata": {},
   "outputs": [],
   "source": [
    "model = Sequential()\n",
    "model.add(Conv2D(32,kernel_size=(4,4),activation='relu', input_shape=(224,224,3)))\n",
    "model.add(Conv2D(64,(3,3),activation='relu'))\n",
    "model.add(MaxPooling2D(pool_size=(3,3)))\n",
    "\n",
    "model.add(Conv2D(64,(3,3),activation='relu'))\n",
    "model.add(MaxPooling2D(pool_size=(3,3)))\n",
    "\n",
    "model.add(Conv2D(128,(3,3),activation='relu'))\n",
    "model.add(MaxPooling2D(pool_size=(3,3)))\n",
    "\n",
    "model.add(Flatten())\n",
    "model.add(Dense(128,activation='relu'))\n",
    "model.add(Dense(1,activation='sigmoid'))\n",
    "model.compile(loss='binary_crossentropy',optimizer='adam',metrics=['accuracy'])\n"
   ]
  },
  {
   "cell_type": "code",
   "execution_count": 4,
   "metadata": {},
   "outputs": [
    {
     "name": "stdout",
     "output_type": "stream",
     "text": [
      "Model: \"sequential\"\n",
      "_________________________________________________________________\n",
      "Layer (type)                 Output Shape              Param #   \n",
      "=================================================================\n",
      "conv2d (Conv2D)              (None, 221, 221, 32)      1568      \n",
      "_________________________________________________________________\n",
      "conv2d_1 (Conv2D)            (None, 219, 219, 64)      18496     \n",
      "_________________________________________________________________\n",
      "max_pooling2d (MaxPooling2D) (None, 73, 73, 64)        0         \n",
      "_________________________________________________________________\n",
      "conv2d_2 (Conv2D)            (None, 71, 71, 64)        36928     \n",
      "_________________________________________________________________\n",
      "max_pooling2d_1 (MaxPooling2 (None, 23, 23, 64)        0         \n",
      "_________________________________________________________________\n",
      "conv2d_3 (Conv2D)            (None, 21, 21, 128)       73856     \n",
      "_________________________________________________________________\n",
      "max_pooling2d_2 (MaxPooling2 (None, 7, 7, 128)         0         \n",
      "_________________________________________________________________\n",
      "flatten (Flatten)            (None, 6272)              0         \n",
      "_________________________________________________________________\n",
      "dense (Dense)                (None, 128)               802944    \n",
      "_________________________________________________________________\n",
      "dense_1 (Dense)              (None, 1)                 129       \n",
      "=================================================================\n",
      "Total params: 933,921\n",
      "Trainable params: 933,921\n",
      "Non-trainable params: 0\n",
      "_________________________________________________________________\n"
     ]
    }
   ],
   "source": [
    "model.summary()"
   ]
  },
  {
   "cell_type": "code",
   "execution_count": 5,
   "metadata": {},
   "outputs": [],
   "source": [
    "from tensorflow.keras.preprocessing.image import ImageDataGenerator\n",
    "\n",
    "train_data = ImageDataGenerator(rescale = 1./255,shear_range = 0.2,zoom_range = 0.2,horizontal_flip = True)\n",
    "test_data = ImageDataGenerator(rescale = 1./255)"
   ]
  },
  {
   "cell_type": "code",
   "execution_count": 6,
   "metadata": {},
   "outputs": [
    {
     "name": "stdout",
     "output_type": "stream",
     "text": [
      "Found 279 images belonging to 2 classes.\n",
      "Found 46 images belonging to 2 classes.\n"
     ]
    }
   ],
   "source": [
    "train_set = train_data.flow_from_directory(train_path,target_size = (224,224),batch_size = 12,class_mode = 'binary')\n",
    "test_set = test_data.flow_from_directory(test_path,target_size = (224,224),batch_size = 12,class_mode = 'binary')\n"
   ]
  },
  {
   "cell_type": "code",
   "execution_count": 7,
   "metadata": {},
   "outputs": [
    {
     "data": {
      "text/plain": [
       "{'Negative': 0, 'Positive': 1}"
      ]
     },
     "execution_count": 7,
     "metadata": {},
     "output_type": "execute_result"
    }
   ],
   "source": [
    "train_set.class_indices"
   ]
  },
  {
   "cell_type": "code",
   "execution_count": 8,
   "metadata": {},
   "outputs": [
    {
     "name": "stdout",
     "output_type": "stream",
     "text": [
      "Train for 24 steps, validate for 4 steps\n",
      "Epoch 1/20\n",
      "24/24 [==============================] - 65s 3s/step - loss: 0.6835 - accuracy: 0.6308 - val_loss: 0.7167 - val_accuracy: 0.4348\n",
      "Epoch 2/20\n",
      "24/24 [==============================] - 68s 3s/step - loss: 0.6924 - accuracy: 0.6272 - val_loss: 0.6498 - val_accuracy: 0.8913\n",
      "Epoch 3/20\n",
      "24/24 [==============================] - 63s 3s/step - loss: 0.4710 - accuracy: 0.8172 - val_loss: 0.1524 - val_accuracy: 0.9783\n",
      "Epoch 4/20\n",
      "24/24 [==============================] - 62s 3s/step - loss: 0.5103 - accuracy: 0.7849 - val_loss: 0.2231 - val_accuracy: 1.0000\n",
      "Epoch 5/20\n",
      "24/24 [==============================] - 61s 3s/step - loss: 0.3336 - accuracy: 0.8817 - val_loss: 0.0764 - val_accuracy: 0.9783\n",
      "Epoch 6/20\n",
      "24/24 [==============================] - 62s 3s/step - loss: 0.2659 - accuracy: 0.8996 - val_loss: 0.0941 - val_accuracy: 0.9565\n",
      "Epoch 7/20\n",
      "24/24 [==============================] - 64s 3s/step - loss: 0.1681 - accuracy: 0.9355 - val_loss: 0.0414 - val_accuracy: 0.9783\n",
      "Epoch 8/20\n",
      "24/24 [==============================] - 64s 3s/step - loss: 0.1777 - accuracy: 0.9355 - val_loss: 0.0658 - val_accuracy: 0.9783\n",
      "Epoch 9/20\n",
      "24/24 [==============================] - 67s 3s/step - loss: 0.2005 - accuracy: 0.9319 - val_loss: 0.2260 - val_accuracy: 0.9348\n",
      "Epoch 10/20\n",
      "24/24 [==============================] - 63s 3s/step - loss: 0.1703 - accuracy: 0.9176 - val_loss: 0.1564 - val_accuracy: 0.9348\n",
      "Epoch 11/20\n",
      "24/24 [==============================] - 60s 3s/step - loss: 0.1554 - accuracy: 0.9391 - val_loss: 0.0548 - val_accuracy: 0.9783\n",
      "Epoch 12/20\n",
      "24/24 [==============================] - 63s 3s/step - loss: 0.1304 - accuracy: 0.9570 - val_loss: 0.1098 - val_accuracy: 0.9565\n",
      "Epoch 13/20\n",
      "24/24 [==============================] - 63s 3s/step - loss: 0.0898 - accuracy: 0.9713 - val_loss: 0.0721 - val_accuracy: 0.9783\n",
      "Epoch 14/20\n",
      "24/24 [==============================] - 60s 2s/step - loss: 0.1079 - accuracy: 0.9642 - val_loss: 0.1568 - val_accuracy: 0.9783\n",
      "Epoch 15/20\n",
      "24/24 [==============================] - 61s 3s/step - loss: 0.1115 - accuracy: 0.9606 - val_loss: 0.0903 - val_accuracy: 0.9783\n",
      "Epoch 16/20\n",
      "24/24 [==============================] - 61s 3s/step - loss: 0.0872 - accuracy: 0.9749 - val_loss: 0.0935 - val_accuracy: 0.9783\n",
      "Epoch 17/20\n",
      "24/24 [==============================] - 60s 3s/step - loss: 0.0547 - accuracy: 0.9677 - val_loss: 0.0905 - val_accuracy: 0.9783\n",
      "Epoch 18/20\n",
      "24/24 [==============================] - 61s 3s/step - loss: 0.0983 - accuracy: 0.9570 - val_loss: 0.1907 - val_accuracy: 0.9783\n",
      "Epoch 19/20\n",
      "24/24 [==============================] - 60s 3s/step - loss: 0.1300 - accuracy: 0.9642 - val_loss: 0.0657 - val_accuracy: 0.9783\n",
      "Epoch 20/20\n",
      "24/24 [==============================] - 61s 3s/step - loss: 0.0738 - accuracy: 0.9749 - val_loss: 0.0692 - val_accuracy: 0.9783\n"
     ]
    }
   ],
   "source": [
    "covid=model.fit(train_set,\n",
    "                         steps_per_epoch = len(train_set),\n",
    "                         epochs = 20,\n",
    "                         validation_data = test_set,\n",
    "                         validation_steps = len(test_set))"
   ]
  },
  {
   "cell_type": "code",
   "execution_count": 9,
   "metadata": {},
   "outputs": [
    {
     "data": {
      "image/png": "[encoded data removed]",
      "text/plain": [
       "<Figure size 432x288 with 1 Axes>"
      ]
     },
     "metadata": {
      "needs_background": "light"
     },
     "output_type": "display_data"
    },
    {
     "data": {
      "image/png": "[encoded data removed]",
      "text/plain": [
       "<Figure size 432x288 with 1 Axes>"
      ]
     },
     "metadata": {
      "needs_background": "light"
     },
     "output_type": "display_data"
    },
    {
     "data": {
      "text/plain": [
       "<Figure size 432x288 with 0 Axes>"
      ]
     },
     "metadata": {},
     "output_type": "display_data"
    }
   ],
   "source": [
    "plt.plot(covid.history['loss'], label='train loss')\n",
    "plt.plot(covid.history['val_loss'], label='val loss')\n",
    "plt.legend()\n",
    "plt.show()\n",
    "plt.savefig('LossVal_loss')\n",
    "\n",
    "# plot the accuracy\n",
    "plt.plot(covid.history['accuracy'], label='train acc')\n",
    "plt.plot(covid.history['val_accuracy'], label='val acc')\n",
    "plt.legend()\n",
    "plt.show()\n",
    "plt.savefig('AccVal_acc')"
   ]
  },
  {
   "cell_type": "code",
   "execution_count": 10,
   "metadata": {},
   "outputs": [
    {
     "name": "stdout",
     "output_type": "stream",
     "text": [
      "Requirement already satisfied: pyyaml in c:\\users\\sanjay\\anaconda3\\envs\\project3\\lib\\site-packages (5.3.1)\n",
      "Requirement already satisfied: h5py in c:\\users\\sanjay\\anaconda3\\envs\\project3\\lib\\site-packages (2.10.0)\n",
      "Requirement already satisfied: numpy>=1.7 in c:\\users\\sanjay\\anaconda3\\envs\\project3\\lib\\site-packages (from h5py) (1.19.2)\n",
      "Requirement already satisfied: six in c:\\users\\sanjay\\anaconda3\\envs\\project3\\lib\\site-packages (from h5py) (1.15.0)\n"
     ]
    }
   ],
   "source": [
    "!pip install pyyaml h5py"
   ]
  },
  {
   "cell_type": "code",
   "execution_count": 11,
   "metadata": {},
   "outputs": [],
   "source": [
    "model.save('covid.h5')"
   ]
  },
  {
   "cell_type": "code",
   "execution_count": null,
   "metadata": {},
   "outputs": [],
   "source": []
  }
 ],
 "metadata": {
  "kernelspec": {
   "display_name": "Python 3",
   "language": "python",
   "name": "python3"
  },
  "language_info": {
   "codemirror_mode": {
    "name": "ipython",
    "version": 3
   },
   "file_extension": ".py",
   "mimetype": "text/x-python",
   "name": "python",
   "nbconvert_exporter": "python",
   "pygments_lexer": "ipython3",
   "version": "3.6.10"
  }
 },
 "nbformat": 4,
 "nbformat_minor": 4
}
